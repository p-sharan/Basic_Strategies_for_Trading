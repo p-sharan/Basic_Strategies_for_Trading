{
 "cells": [
  {
   "cell_type": "markdown",
   "metadata": {},
   "source": [
    " "
   ]
  },
  {
   "cell_type": "markdown",
   "metadata": {},
   "source": [
    "Below is a simple program for a trading strategy in which we can long one share of stock when the moving average of 10 days is larger than the moving average of 50 days"
   ]
  },
  {
   "cell_type": "markdown",
   "metadata": {},
   "source": [
    "## 1. importing libraries"
   ]
  },
  {
   "cell_type": "code",
   "execution_count": 2,
   "metadata": {},
   "outputs": [],
   "source": [
    "import pandas as pd\n",
    "import numpy as np\n",
    "import matplotlib.pyplot as plt\n",
    "% matplotlib inline"
   ]
  },
  {
   "cell_type": "code",
   "execution_count": 3,
   "metadata": {},
   "outputs": [],
   "source": [
    "import csv\n",
    "import seaborn as sns"
   ]
  },
  {
   "cell_type": "markdown",
   "metadata": {},
   "source": [
    "# 2. importing dataset of Reliance Ind. stock prices from\n",
    "## 01-Jan-2010 to 27-July-2021"
   ]
  },
  {
   "cell_type": "markdown",
   "metadata": {},
   "source": [
    " "
   ]
  },
  {
   "cell_type": "code",
   "execution_count": 12,
   "metadata": {},
   "outputs": [
    {
     "data": {
      "text/html": [
       "<div>\n",
       "<style scoped>\n",
       "    .dataframe tbody tr th:only-of-type {\n",
       "        vertical-align: middle;\n",
       "    }\n",
       "\n",
       "    .dataframe tbody tr th {\n",
       "        vertical-align: top;\n",
       "    }\n",
       "\n",
       "    .dataframe thead th {\n",
       "        text-align: right;\n",
       "    }\n",
       "</style>\n",
       "<table border=\"1\" class=\"dataframe\">\n",
       "  <thead>\n",
       "    <tr style=\"text-align: right;\">\n",
       "      <th></th>\n",
       "      <th>Date</th>\n",
       "      <th>Open</th>\n",
       "      <th>High</th>\n",
       "      <th>Low</th>\n",
       "      <th>Close</th>\n",
       "      <th>Adj Close</th>\n",
       "      <th>Volume</th>\n",
       "    </tr>\n",
       "  </thead>\n",
       "  <tbody>\n",
       "    <tr>\n",
       "      <th>0</th>\n",
       "      <td>2010-01-04</td>\n",
       "      <td>540.427307</td>\n",
       "      <td>540.427307</td>\n",
       "      <td>506.127411</td>\n",
       "      <td>532.700500</td>\n",
       "      <td>484.266144</td>\n",
       "      <td>35372156.0</td>\n",
       "    </tr>\n",
       "    <tr>\n",
       "      <th>1</th>\n",
       "      <td>2010-01-05</td>\n",
       "      <td>569.551208</td>\n",
       "      <td>569.551208</td>\n",
       "      <td>527.697937</td>\n",
       "      <td>530.323059</td>\n",
       "      <td>482.104797</td>\n",
       "      <td>9872785.0</td>\n",
       "    </tr>\n",
       "    <tr>\n",
       "      <th>2</th>\n",
       "      <td>2010-01-06</td>\n",
       "      <td>534.879883</td>\n",
       "      <td>542.111328</td>\n",
       "      <td>530.298279</td>\n",
       "      <td>538.891846</td>\n",
       "      <td>489.894440</td>\n",
       "      <td>10933743.0</td>\n",
       "    </tr>\n",
       "    <tr>\n",
       "      <th>3</th>\n",
       "      <td>2010-01-07</td>\n",
       "      <td>538.891846</td>\n",
       "      <td>552.265076</td>\n",
       "      <td>533.938782</td>\n",
       "      <td>547.832092</td>\n",
       "      <td>498.021881</td>\n",
       "      <td>12090336.0</td>\n",
       "    </tr>\n",
       "    <tr>\n",
       "      <th>4</th>\n",
       "      <td>2010-01-08</td>\n",
       "      <td>548.797974</td>\n",
       "      <td>551.670715</td>\n",
       "      <td>542.854309</td>\n",
       "      <td>546.395691</td>\n",
       "      <td>496.716003</td>\n",
       "      <td>6973331.0</td>\n",
       "    </tr>\n",
       "  </tbody>\n",
       "</table>\n",
       "</div>"
      ],
      "text/plain": [
       "         Date        Open        High         Low       Close   Adj Close  \\\n",
       "0  2010-01-04  540.427307  540.427307  506.127411  532.700500  484.266144   \n",
       "1  2010-01-05  569.551208  569.551208  527.697937  530.323059  482.104797   \n",
       "2  2010-01-06  534.879883  542.111328  530.298279  538.891846  489.894440   \n",
       "3  2010-01-07  538.891846  552.265076  533.938782  547.832092  498.021881   \n",
       "4  2010-01-08  548.797974  551.670715  542.854309  546.395691  496.716003   \n",
       "\n",
       "       Volume  \n",
       "0  35372156.0  \n",
       "1   9872785.0  \n",
       "2  10933743.0  \n",
       "3  12090336.0  \n",
       "4   6973331.0  "
      ]
     },
     "execution_count": 12,
     "metadata": {},
     "output_type": "execute_result"
    }
   ],
   "source": [
    "#read csv file to get population and density values of all cities and countines \n",
    "reliance = pd.read_csv(r'C:\\Users\\PSharan\\Downloads\\RELIANCE.NS.csv')\n",
    "reliance.head()"
   ]
  },
  {
   "cell_type": "markdown",
   "metadata": {},
   "source": [
    "# 3.Creating relative dataframe"
   ]
  },
  {
   "cell_type": "code",
   "execution_count": 13,
   "metadata": {},
   "outputs": [
    {
     "data": {
      "text/html": [
       "<div>\n",
       "<style scoped>\n",
       "    .dataframe tbody tr th:only-of-type {\n",
       "        vertical-align: middle;\n",
       "    }\n",
       "\n",
       "    .dataframe tbody tr th {\n",
       "        vertical-align: top;\n",
       "    }\n",
       "\n",
       "    .dataframe thead th {\n",
       "        text-align: right;\n",
       "    }\n",
       "</style>\n",
       "<table border=\"1\" class=\"dataframe\">\n",
       "  <thead>\n",
       "    <tr style=\"text-align: right;\">\n",
       "      <th></th>\n",
       "      <th>Date</th>\n",
       "      <th>Open</th>\n",
       "      <th>High</th>\n",
       "      <th>Low</th>\n",
       "      <th>Close</th>\n",
       "      <th>Adj Close</th>\n",
       "      <th>Volume</th>\n",
       "      <th>MA10</th>\n",
       "      <th>MA50</th>\n",
       "    </tr>\n",
       "  </thead>\n",
       "  <tbody>\n",
       "    <tr>\n",
       "      <th>2855</th>\n",
       "      <td>2021-07-20</td>\n",
       "      <td>2099.500000</td>\n",
       "      <td>2108.000000</td>\n",
       "      <td>2084.000000</td>\n",
       "      <td>2093.800049</td>\n",
       "      <td>2093.800049</td>\n",
       "      <td>3111185.0</td>\n",
       "      <td>2093.115015</td>\n",
       "      <td>2108.841999</td>\n",
       "    </tr>\n",
       "    <tr>\n",
       "      <th>2856</th>\n",
       "      <td>2021-07-22</td>\n",
       "      <td>2119.000000</td>\n",
       "      <td>2123.899902</td>\n",
       "      <td>2098.149902</td>\n",
       "      <td>2120.699951</td>\n",
       "      <td>2120.699951</td>\n",
       "      <td>3679260.0</td>\n",
       "      <td>2094.180005</td>\n",
       "      <td>2112.592998</td>\n",
       "    </tr>\n",
       "    <tr>\n",
       "      <th>2857</th>\n",
       "      <td>2021-07-23</td>\n",
       "      <td>2134.449951</td>\n",
       "      <td>2134.449951</td>\n",
       "      <td>2102.050049</td>\n",
       "      <td>2105.699951</td>\n",
       "      <td>2105.699951</td>\n",
       "      <td>4585938.0</td>\n",
       "      <td>2095.489990</td>\n",
       "      <td>2116.443997</td>\n",
       "    </tr>\n",
       "    <tr>\n",
       "      <th>2858</th>\n",
       "      <td>2021-07-26</td>\n",
       "      <td>2108.000000</td>\n",
       "      <td>2121.000000</td>\n",
       "      <td>2071.100098</td>\n",
       "      <td>2076.850098</td>\n",
       "      <td>2076.850098</td>\n",
       "      <td>5717830.0</td>\n",
       "      <td>2096.055005</td>\n",
       "      <td>2119.234998</td>\n",
       "    </tr>\n",
       "    <tr>\n",
       "      <th>2859</th>\n",
       "      <td>2021-07-27</td>\n",
       "      <td>2076.800049</td>\n",
       "      <td>2083.699951</td>\n",
       "      <td>2042.000000</td>\n",
       "      <td>2055.000000</td>\n",
       "      <td>2055.000000</td>\n",
       "      <td>4995516.0</td>\n",
       "      <td>2093.144995</td>\n",
       "      <td>2121.127998</td>\n",
       "    </tr>\n",
       "  </tbody>\n",
       "</table>\n",
       "</div>"
      ],
      "text/plain": [
       "            Date         Open         High          Low        Close  \\\n",
       "2855  2021-07-20  2099.500000  2108.000000  2084.000000  2093.800049   \n",
       "2856  2021-07-22  2119.000000  2123.899902  2098.149902  2120.699951   \n",
       "2857  2021-07-23  2134.449951  2134.449951  2102.050049  2105.699951   \n",
       "2858  2021-07-26  2108.000000  2121.000000  2071.100098  2076.850098   \n",
       "2859  2021-07-27  2076.800049  2083.699951  2042.000000  2055.000000   \n",
       "\n",
       "        Adj Close     Volume         MA10         MA50  \n",
       "2855  2093.800049  3111185.0  2093.115015  2108.841999  \n",
       "2856  2120.699951  3679260.0  2094.180005  2112.592998  \n",
       "2857  2105.699951  4585938.0  2095.489990  2116.443997  \n",
       "2858  2076.850098  5717830.0  2096.055005  2119.234998  \n",
       "2859  2055.000000  4995516.0  2093.144995  2121.127998  "
      ]
     },
     "execution_count": 13,
     "metadata": {},
     "output_type": "execute_result"
    }
   ],
   "source": [
    "# adding  two columns - MA10 and MA50\n",
    "reliance['MA10'] = reliance['Close'].rolling(10).mean()   #mocing average for 10 days\n",
    "reliance['MA50'] = reliance['Close'].rolling(50).mean()   #moving average for 50 days\n",
    "\n",
    "#reliance = reliance.dropna()  #drop any column to remove any \"not a number\" data\n",
    "reliance.tail()"
   ]
  },
  {
   "cell_type": "markdown",
   "metadata": {},
   "source": [
    "## 4. creating a column \"Shares\" to indicate when to long one share of a stock "
   ]
  },
  {
   "cell_type": "code",
   "execution_count": 15,
   "metadata": {},
   "outputs": [
    {
     "data": {
      "text/html": [
       "<div>\n",
       "<style scoped>\n",
       "    .dataframe tbody tr th:only-of-type {\n",
       "        vertical-align: middle;\n",
       "    }\n",
       "\n",
       "    .dataframe tbody tr th {\n",
       "        vertical-align: top;\n",
       "    }\n",
       "\n",
       "    .dataframe thead th {\n",
       "        text-align: right;\n",
       "    }\n",
       "</style>\n",
       "<table border=\"1\" class=\"dataframe\">\n",
       "  <thead>\n",
       "    <tr style=\"text-align: right;\">\n",
       "      <th></th>\n",
       "      <th>Date</th>\n",
       "      <th>Open</th>\n",
       "      <th>High</th>\n",
       "      <th>Low</th>\n",
       "      <th>Close</th>\n",
       "      <th>Adj Close</th>\n",
       "      <th>Volume</th>\n",
       "      <th>MA10</th>\n",
       "      <th>MA50</th>\n",
       "      <th>Shares</th>\n",
       "    </tr>\n",
       "  </thead>\n",
       "  <tbody>\n",
       "    <tr>\n",
       "      <th>2855</th>\n",
       "      <td>2021-07-20</td>\n",
       "      <td>2099.500000</td>\n",
       "      <td>2108.000000</td>\n",
       "      <td>2084.000000</td>\n",
       "      <td>2093.800049</td>\n",
       "      <td>2093.800049</td>\n",
       "      <td>3111185.0</td>\n",
       "      <td>2093.115015</td>\n",
       "      <td>2108.841999</td>\n",
       "      <td>0</td>\n",
       "    </tr>\n",
       "    <tr>\n",
       "      <th>2856</th>\n",
       "      <td>2021-07-22</td>\n",
       "      <td>2119.000000</td>\n",
       "      <td>2123.899902</td>\n",
       "      <td>2098.149902</td>\n",
       "      <td>2120.699951</td>\n",
       "      <td>2120.699951</td>\n",
       "      <td>3679260.0</td>\n",
       "      <td>2094.180005</td>\n",
       "      <td>2112.592998</td>\n",
       "      <td>0</td>\n",
       "    </tr>\n",
       "    <tr>\n",
       "      <th>2857</th>\n",
       "      <td>2021-07-23</td>\n",
       "      <td>2134.449951</td>\n",
       "      <td>2134.449951</td>\n",
       "      <td>2102.050049</td>\n",
       "      <td>2105.699951</td>\n",
       "      <td>2105.699951</td>\n",
       "      <td>4585938.0</td>\n",
       "      <td>2095.489990</td>\n",
       "      <td>2116.443997</td>\n",
       "      <td>0</td>\n",
       "    </tr>\n",
       "    <tr>\n",
       "      <th>2858</th>\n",
       "      <td>2021-07-26</td>\n",
       "      <td>2108.000000</td>\n",
       "      <td>2121.000000</td>\n",
       "      <td>2071.100098</td>\n",
       "      <td>2076.850098</td>\n",
       "      <td>2076.850098</td>\n",
       "      <td>5717830.0</td>\n",
       "      <td>2096.055005</td>\n",
       "      <td>2119.234998</td>\n",
       "      <td>0</td>\n",
       "    </tr>\n",
       "    <tr>\n",
       "      <th>2859</th>\n",
       "      <td>2021-07-27</td>\n",
       "      <td>2076.800049</td>\n",
       "      <td>2083.699951</td>\n",
       "      <td>2042.000000</td>\n",
       "      <td>2055.000000</td>\n",
       "      <td>2055.000000</td>\n",
       "      <td>4995516.0</td>\n",
       "      <td>2093.144995</td>\n",
       "      <td>2121.127998</td>\n",
       "      <td>0</td>\n",
       "    </tr>\n",
       "  </tbody>\n",
       "</table>\n",
       "</div>"
      ],
      "text/plain": [
       "            Date         Open         High          Low        Close  \\\n",
       "2855  2021-07-20  2099.500000  2108.000000  2084.000000  2093.800049   \n",
       "2856  2021-07-22  2119.000000  2123.899902  2098.149902  2120.699951   \n",
       "2857  2021-07-23  2134.449951  2134.449951  2102.050049  2105.699951   \n",
       "2858  2021-07-26  2108.000000  2121.000000  2071.100098  2076.850098   \n",
       "2859  2021-07-27  2076.800049  2083.699951  2042.000000  2055.000000   \n",
       "\n",
       "        Adj Close     Volume         MA10         MA50  Shares  \n",
       "2855  2093.800049  3111185.0  2093.115015  2108.841999       0  \n",
       "2856  2120.699951  3679260.0  2094.180005  2112.592998       0  \n",
       "2857  2105.699951  4585938.0  2095.489990  2116.443997       0  \n",
       "2858  2076.850098  5717830.0  2096.055005  2119.234998       0  \n",
       "2859  2055.000000  4995516.0  2093.144995  2121.127998       0  "
      ]
     },
     "execution_count": 15,
     "metadata": {},
     "output_type": "execute_result"
    }
   ],
   "source": [
    "#Add a new column \"Shares\", if MA10>MA50, denote as 1 (long one share of stock), otherwise, denote as 0 (do nothing)\n",
    "\n",
    "reliance['Shares'] = [1 if reliance.loc[ei, 'MA10']>reliance.loc[ei, 'MA50'] else 0 for ei in reliance.index]\n",
    "reliance.tail()"
   ]
  },
  {
   "cell_type": "markdown",
   "metadata": {},
   "source": [
    "# 5.Calculating the profit made in this strategy"
   ]
  },
  {
   "cell_type": "code",
   "execution_count": 31,
   "metadata": {},
   "outputs": [
    {
     "data": {
      "text/plain": [
       "<matplotlib.lines.Line2D at 0x194f5f61630>"
      ]
     },
     "execution_count": 31,
     "metadata": {},
     "output_type": "execute_result"
    },
    {
     "data": {
      "image/png": "[encoded data removed]",
      "text/plain": [
       "<Figure size 432x288 with 1 Axes>"
      ]
     },
     "metadata": {},
     "output_type": "display_data"
    }
   ],
   "source": [
    "#Add a new column \"Profit\" using List Comprehension, for all rows , if Shares=1, the profit is calculated as the close price of \n",
    "#tomorrow - the close price of today. Otherwise the profit is 0.\n",
    "\n",
    "#Plot a graph to show the Profit/Loss\n",
    "\n",
    "reliance['Close1'] = reliance['Close'].shift(1)\n",
    "reliance['Profit'] = [reliance.loc[ei, 'Close'] - reliance.loc[ei, 'Close1'] if reliance.loc[ei, 'Shares']==1 else 0 for ei in reliance.index]\n",
    "reliance['Profit'].plot()\n",
    "plt.title(\"Profit/Loss\")\n",
    "plt.axhline(y=0, color='red')"
   ]
  },
  {
   "cell_type": "code",
   "execution_count": 17,
   "metadata": {},
   "outputs": [
    {
     "data": {
      "text/html": [
       "<div>\n",
       "<style scoped>\n",
       "    .dataframe tbody tr th:only-of-type {\n",
       "        vertical-align: middle;\n",
       "    }\n",
       "\n",
       "    .dataframe tbody tr th {\n",
       "        vertical-align: top;\n",
       "    }\n",
       "\n",
       "    .dataframe thead th {\n",
       "        text-align: right;\n",
       "    }\n",
       "</style>\n",
       "<table border=\"1\" class=\"dataframe\">\n",
       "  <thead>\n",
       "    <tr style=\"text-align: right;\">\n",
       "      <th></th>\n",
       "      <th>Date</th>\n",
       "      <th>Open</th>\n",
       "      <th>High</th>\n",
       "      <th>Low</th>\n",
       "      <th>Close</th>\n",
       "      <th>Adj Close</th>\n",
       "      <th>Volume</th>\n",
       "      <th>MA10</th>\n",
       "      <th>MA50</th>\n",
       "      <th>Shares</th>\n",
       "      <th>Close1</th>\n",
       "      <th>Profit</th>\n",
       "      <th>wealth</th>\n",
       "    </tr>\n",
       "  </thead>\n",
       "  <tbody>\n",
       "    <tr>\n",
       "      <th>2855</th>\n",
       "      <td>2021-07-20</td>\n",
       "      <td>2099.500000</td>\n",
       "      <td>2108.000000</td>\n",
       "      <td>2084.000000</td>\n",
       "      <td>2093.800049</td>\n",
       "      <td>2093.800049</td>\n",
       "      <td>3111185.0</td>\n",
       "      <td>2093.115015</td>\n",
       "      <td>2108.841999</td>\n",
       "      <td>0</td>\n",
       "      <td>2098.949951</td>\n",
       "      <td>0.0</td>\n",
       "      <td>1081.075772</td>\n",
       "    </tr>\n",
       "    <tr>\n",
       "      <th>2856</th>\n",
       "      <td>2021-07-22</td>\n",
       "      <td>2119.000000</td>\n",
       "      <td>2123.899902</td>\n",
       "      <td>2098.149902</td>\n",
       "      <td>2120.699951</td>\n",
       "      <td>2120.699951</td>\n",
       "      <td>3679260.0</td>\n",
       "      <td>2094.180005</td>\n",
       "      <td>2112.592998</td>\n",
       "      <td>0</td>\n",
       "      <td>2093.800049</td>\n",
       "      <td>0.0</td>\n",
       "      <td>1081.075772</td>\n",
       "    </tr>\n",
       "    <tr>\n",
       "      <th>2857</th>\n",
       "      <td>2021-07-23</td>\n",
       "      <td>2134.449951</td>\n",
       "      <td>2134.449951</td>\n",
       "      <td>2102.050049</td>\n",
       "      <td>2105.699951</td>\n",
       "      <td>2105.699951</td>\n",
       "      <td>4585938.0</td>\n",
       "      <td>2095.489990</td>\n",
       "      <td>2116.443997</td>\n",
       "      <td>0</td>\n",
       "      <td>2120.699951</td>\n",
       "      <td>0.0</td>\n",
       "      <td>1081.075772</td>\n",
       "    </tr>\n",
       "    <tr>\n",
       "      <th>2858</th>\n",
       "      <td>2021-07-26</td>\n",
       "      <td>2108.000000</td>\n",
       "      <td>2121.000000</td>\n",
       "      <td>2071.100098</td>\n",
       "      <td>2076.850098</td>\n",
       "      <td>2076.850098</td>\n",
       "      <td>5717830.0</td>\n",
       "      <td>2096.055005</td>\n",
       "      <td>2119.234998</td>\n",
       "      <td>0</td>\n",
       "      <td>2105.699951</td>\n",
       "      <td>0.0</td>\n",
       "      <td>1081.075772</td>\n",
       "    </tr>\n",
       "    <tr>\n",
       "      <th>2859</th>\n",
       "      <td>2021-07-27</td>\n",
       "      <td>2076.800049</td>\n",
       "      <td>2083.699951</td>\n",
       "      <td>2042.000000</td>\n",
       "      <td>2055.000000</td>\n",
       "      <td>2055.000000</td>\n",
       "      <td>4995516.0</td>\n",
       "      <td>2093.144995</td>\n",
       "      <td>2121.127998</td>\n",
       "      <td>0</td>\n",
       "      <td>2076.850098</td>\n",
       "      <td>0.0</td>\n",
       "      <td>1081.075772</td>\n",
       "    </tr>\n",
       "  </tbody>\n",
       "</table>\n",
       "</div>"
      ],
      "text/plain": [
       "            Date         Open         High          Low        Close  \\\n",
       "2855  2021-07-20  2099.500000  2108.000000  2084.000000  2093.800049   \n",
       "2856  2021-07-22  2119.000000  2123.899902  2098.149902  2120.699951   \n",
       "2857  2021-07-23  2134.449951  2134.449951  2102.050049  2105.699951   \n",
       "2858  2021-07-26  2108.000000  2121.000000  2071.100098  2076.850098   \n",
       "2859  2021-07-27  2076.800049  2083.699951  2042.000000  2055.000000   \n",
       "\n",
       "        Adj Close     Volume         MA10         MA50  Shares       Close1  \\\n",
       "2855  2093.800049  3111185.0  2093.115015  2108.841999       0  2098.949951   \n",
       "2856  2120.699951  3679260.0  2094.180005  2112.592998       0  2093.800049   \n",
       "2857  2105.699951  4585938.0  2095.489990  2116.443997       0  2120.699951   \n",
       "2858  2076.850098  5717830.0  2096.055005  2119.234998       0  2105.699951   \n",
       "2859  2055.000000  4995516.0  2093.144995  2121.127998       0  2076.850098   \n",
       "\n",
       "      Profit       wealth  \n",
       "2855     0.0  1081.075772  \n",
       "2856     0.0  1081.075772  \n",
       "2857     0.0  1081.075772  \n",
       "2858     0.0  1081.075772  \n",
       "2859     0.0  1081.075772  "
      ]
     },
     "execution_count": 17,
     "metadata": {},
     "output_type": "execute_result"
    }
   ],
   "source": [
    "#Use .cumsum() to calculate the accumulated wealth over the period\n",
    "reliance['wealth'] = reliance['Profit'].cumsum()\n",
    "reliance.tail()"
   ]
  },
  {
   "cell_type": "code",
   "execution_count": 27,
   "metadata": {},
   "outputs": [
    {
     "name": "stdout",
     "output_type": "stream",
     "text": [
      "The total profit made is Rs. 1081.08 in  11.5 years\n"
     ]
    }
   ],
   "source": [
    "print(\"The total profit made is Rs. {} in  11.5 years\" .format(round(reliance.iloc[-1,12],2)))"
   ]
  },
  {
   "cell_type": "code",
   "execution_count": 30,
   "metadata": {},
   "outputs": [
    {
     "data": {
      "text/plain": [
       "Text(0.5, 1.0, 'Total money you win is 1081.08')"
      ]
     },
     "execution_count": 30,
     "metadata": {},
     "output_type": "execute_result"
    },
    {
     "data": {
      "image/png": "[encoded data removed]",
      "text/plain": [
       "<Figure size 432x288 with 1 Axes>"
      ]
     },
     "metadata": {},
     "output_type": "display_data"
    }
   ],
   "source": [
    "reliance['wealth'].plot()\n",
    "plt.title('Total money you win is {}'.format(round(reliance.iloc[-1,12],2)))"
   ]
  }
 ],
 "metadata": {
  "kernelspec": {
   "display_name": "Python 3",
   "language": "python",
   "name": "python3"
  },
  "language_info": {
   "codemirror_mode": {
    "name": "ipython",
    "version": 3
   },
   "file_extension": ".py",
   "mimetype": "text/x-python",
   "name": "python",
   "nbconvert_exporter": "python",
   "pygments_lexer": "ipython3",
   "version": "3.6.5"
  }
 },
 "nbformat": 4,
 "nbformat_minor": 2
}
